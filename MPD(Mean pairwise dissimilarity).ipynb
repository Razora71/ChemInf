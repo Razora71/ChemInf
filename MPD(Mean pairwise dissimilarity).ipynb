{
 "cells": [
  {
   "cell_type": "code",
   "execution_count": null,
   "id": "7dd33fbc",
   "metadata": {},
   "outputs": [],
   "source": [
    "import pandas as pd\n",
    "from rdkit import Chem\n",
    "from rdkit import DataStructs\n",
    "import numpy as np\n",
    "from rdkit.Chem import AllChem\n",
    "from rdkit.Chem import MACCSkeys\n",
    "from rdkit.Chem import rdFingerprintGenerator\n"
   ]
  },
  {
   "cell_type": "code",
   "execution_count": null,
   "id": "b1518a38",
   "metadata": {},
   "outputs": [],
   "source": [
    "def morgan(data, radius):\n",
    "    fps = [AllChem.GetMorganFingerprint(x, radius) for x in data]\n",
    "    sum_dissim = 0\n",
    "    for fp in fps:\n",
    "        dissim_array = 1 - np.array(DataStructs.BulkTanimotoSimilarity(fp, fps))\n",
    "        sum_dissim += np.sum(dissim_array)\n",
    "    output = sum_dissim / (len(fps) * (len(fps) - 1))\n",
    "    return output"
   ]
  },
  {
   "cell_type": "code",
   "execution_count": null,
   "id": "05dc13f6",
   "metadata": {},
   "outputs": [],
   "source": [
    "def maccs(data):\n",
    "    fps = [MACCSkeys.GenMACCSKeys(x) for x in data]\n",
    "    sum_dissim = 0\n",
    "    for fp in fps:\n",
    "        dissim_array = 1 - np.array(DataStructs.BulkTanimotoSimilarity(fp, fps))\n",
    "        sum_dissim += np.sum(dissim_array)\n",
    "    output = sum_dissim / (len(fps) * (len(fps) - 1))\n",
    "    return output"
   ]
  },
  {
   "cell_type": "code",
   "execution_count": null,
   "id": "a1ec47a4",
   "metadata": {},
   "outputs": [],
   "source": [
    "def calc(names):\n",
    "    output = dict()\n",
    "    for name in names:\n",
    "        try:\n",
    "            suppl = Chem.SDMolSupplier(name)\n",
    "        except OSError as err:\n",
    "            print(\"OS error: {0}\".format(err))\n",
    "            continue\n",
    "        \n",
    "        ms = []\n",
    "        for mol in suppl:\n",
    "            if mol is None:\n",
    "                continue\n",
    "            ms.append(mol)\n",
    "        \n",
    "        mor_unp = morgan(ms, radius=2)\n",
    "        maccs_unp = maccs(ms)\n",
    "        \n",
    "        output[name[:9]] = [mor_unp, maccs_unp]\n",
    "    return output"
   ]
  },
  {
   "cell_type": "code",
   "execution_count": null,
   "id": "782b8ee2",
   "metadata": {},
   "outputs": [],
   "source": [
    "def writer(data):\n",
    "    output = list()\n",
    "    for i in data:\n",
    "        output.append(data[i])\n",
    "    \n",
    "    df1 = pd.DataFrame(output,\n",
    "                   index=list(data.keys()),\n",
    "                   columns=['ECFP4', 'MACCS'])\n",
    "    df1.to_excel(\"output.xlsx\")"
   ]
  },
  {
   "cell_type": "code",
   "execution_count": null,
   "id": "00149384",
   "metadata": {},
   "outputs": [],
   "source": [
    "if __name__ == '__main__':\n",
    "    names = []\n",
    "    data = calc(names)\n",
    "    writer(data)"
   ]
  }
 ],
 "metadata": {
  "kernelspec": {
   "display_name": "Python 3 (ipykernel)",
   "language": "python",
   "name": "python3"
  },
  "language_info": {
   "codemirror_mode": {
    "name": "ipython",
    "version": 3
   },
   "file_extension": ".py",
   "mimetype": "text/x-python",
   "name": "python",
   "nbconvert_exporter": "python",
   "pygments_lexer": "ipython3",
   "version": "3.8.9"
  }
 },
 "nbformat": 4,
 "nbformat_minor": 5
}
